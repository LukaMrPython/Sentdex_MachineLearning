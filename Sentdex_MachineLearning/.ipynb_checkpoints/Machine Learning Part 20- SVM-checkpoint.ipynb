{
 "cells": [
  {
   "cell_type": "markdown",
   "metadata": {},
   "source": [
    "# SVM\n",
    "- Seperate groups into one FROM the rest \n",
    "- The equation we need to solve is to get the sum of two vectors to seperate the vectors\n",
    "- So remember is to find the best seperating hyerplane can be calculated with the width of the best fits? /2 and you could get the hyperplanes\n",
    "\n",
    "### MIT OPENCOURSEWARE ADDED HERE\n",
    "- so you want to draw a line such that there is a seperation between -ve and postive tables\n",
    "so given you have a w vectore and a u vectore \n",
    "Given \n",
    "w.u >= c (REFER TO GRAPH)\n",
    "Once it gets to a CERTAIN size, it will get so big, it has to be on the positive side\n",
    "\n",
    "#### Decision Rule\n",
    "Or in a general sense, w.u + b >= 0 is a POSITIVE SAMPLE --------- STEP (1)\n",
    "\n",
    "w.x+ve + b >= 1 Positive gutter\n",
    "\n",
    "w.x-ve + b <= -1 Negaitve gutter\n",
    "\n",
    "y1 is goign to be +1 for samples, and -1 for -ve samples\n",
    "\n",
    "so y1(xw + b) - 1 = 0 _---------- STEP (2)\n",
    "\n",
    "THE DIFFERENCE\n",
    "the difference between x+ and x- is the distance between the two gutters (x+ and x-ve) \n",
    "Therefore: \n",
    "The Width is (X+ - X-) . W / mag(W) and this product is the width of the street\n",
    "using STEP (2)\n",
    "you get:\n",
    "\n",
    "(1 + b) - (b - 1) / mag(W) \n",
    "2 / mag(W)\n",
    "\n",
    "We need to maxmimize THIS constraint to make sure this will work, which is same as 1/mag(W} which means MINIMIZE mag(W)\n",
    "- therefore you can min (magW)**2 / 2 (for convenicne)\n",
    "----- STEP (3)\n",
    "\n",
    "L = (magW **2)/2 - sum(y(wx+b)-1)\n",
    "dL/df = w - sum(uyx) = 0\n",
    "...... w = sum(Xi . Y. Alpha)!\n",
    "----- STEP (4)\n",
    "\n",
    "dL/db =sum(Alphai . Yi)\n",
    "\n",
    "The decision vector is the SUM of the variables "
   ]
  },
  {
   "cell_type": "markdown",
   "metadata": {},
   "source": [
    "## Hyper Plane\n",
    "\n",
    "x.w + B = 1 for positive class\n",
    "x.w + B = -1 for negative class\n",
    "\n",
    "So in the ocassiona y(xwb) > 1\n",
    "We keep finding a b for each w. To maximize b.\n"
   ]
  },
  {
   "cell_type": "code",
   "execution_count": 1,
   "metadata": {
    "collapsed": true
   },
   "outputs": [],
   "source": [
    "import matplotlib.pyplot as plt\n",
    "from matplotlib import style\n",
    "import numpy as np"
   ]
  },
  {
   "cell_type": "code",
   "execution_count": null,
   "metadata": {
    "collapsed": true
   },
   "outputs": [],
   "source": [
    "data_dict = {-1:np.array([[1,7],\n",
    "                          [2,8],\n",
    "                          [3,8], ]),\n",
    "             \n",
    "             1:np.array([[5,1],\n",
    "                          [6,-1],\n",
    "                          [7,3],])}\n",
    "\n",
    "\n"
   ]
  }
 ],
 "metadata": {
  "kernelspec": {
   "display_name": "Python 3",
   "language": "python",
   "name": "python3"
  },
  "language_info": {
   "codemirror_mode": {
    "name": "ipython",
    "version": 3
   },
   "file_extension": ".py",
   "mimetype": "text/x-python",
   "name": "python",
   "nbconvert_exporter": "python",
   "pygments_lexer": "ipython3",
   "version": "3.6.1"
  }
 },
 "nbformat": 4,
 "nbformat_minor": 2
}
