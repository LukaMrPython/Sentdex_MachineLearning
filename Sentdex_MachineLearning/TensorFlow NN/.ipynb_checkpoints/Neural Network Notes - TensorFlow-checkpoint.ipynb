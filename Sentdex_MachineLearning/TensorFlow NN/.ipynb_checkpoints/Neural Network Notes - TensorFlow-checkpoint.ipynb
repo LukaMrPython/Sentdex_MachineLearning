{
 "cells": [
  {
   "cell_type": "markdown",
   "metadata": {},
   "source": [
    "# THE AI of NN\n",
    "- You have input values (x1, x2, .....)\n",
    "- They are summed, and along the way, each one is weighted\n",
    "- They are all added together - the NEURON will choose to fire or not fire. SO these get passed through a THRESHOLD function. LIke S shape or a 'step' _|- \n",
    "- At some point it will make the oint a 0 to a 1 so it will 'fire'\n",
    "- it's not ideal, sometimes they use a 'SIGMOID FUNCTION' more s shape. This is the ACTIVATION function.\n",
    "\n",
    "Normally you have multiple goes thrugh each point\n",
    "\n",
    "X -> w1, w2, w3 and keeps connecting over and over again to each other. These go through multiple stages.\n",
    "so INPUT -> hidden Layer 1 -> hidden layer 2 etc -> output\n",
    "\n"
   ]
  },
  {
   "cell_type": "code",
   "execution_count": 3,
   "metadata": {
    "collapsed": true
   },
   "outputs": [],
   "source": [
    "import tensorflow as tf"
   ]
  },
  {
   "cell_type": "code",
   "execution_count": 8,
   "metadata": {},
   "outputs": [
    {
     "name": "stdout",
     "output_type": "stream",
     "text": [
      "Tensor(\"Mul_2:0\", shape=(), dtype=int32)\n",
      "30\n"
     ]
    }
   ],
   "source": [
    "x1 = tf.constant(5)\n",
    "x2 = tf.constant(6)\n",
    "\n",
    "#Abstract tensor\n",
    "result = tf.multiply(x1,x2)\n",
    "print(result)\n",
    "\n",
    "#This begins the session - also will close once done\n",
    "with tf.Session() as sess:\n",
    "    output = sess.run(result)\n",
    "    print(output)"
   ]
  },
  {
   "cell_type": "markdown",
   "metadata": {},
   "source": [
    "# Start Learning Here\n",
    "\n",
    "input data - weighted > hidden layer 1 (activation function) -> send weights -> hidden layer 2\n",
    "=> towards the output layer\n",
    "\n",
    "compare this output to intended output with a cost function\n",
    "\n",
    "optimization function -> minimize cost (adamopt / SG/ ada grade\n",
    "\n",
    "Backpropogation\n",
    "\n",
    "Feed forward + backprop = epoch?"
   ]
  },
  {
   "cell_type": "code",
   "execution_count": 9,
   "metadata": {
    "collapsed": true
   },
   "outputs": [],
   "source": [
    "import tensorflow as tf"
   ]
  },
  {
   "cell_type": "code",
   "execution_count": 15,
   "metadata": {},
   "outputs": [
    {
     "name": "stdout",
     "output_type": "stream",
     "text": [
      "Extracting /tmp/data/train-images-idx3-ubyte.gz\n",
      "Extracting /tmp/data/train-labels-idx1-ubyte.gz\n",
      "Extracting /tmp/data/t10k-images-idx3-ubyte.gz\n",
      "Extracting /tmp/data/t10k-labels-idx1-ubyte.gz\n"
     ]
    }
   ],
   "source": [
    "from tensorflow.examples.tutorials.mnist import input_data\n",
    "\n",
    "#One hot is saying 0 = [1,0,0,0,0,0,0,0,0,0]\n",
    "mnist = input_data.read_data_sets(\"/tmp/data\", one_hot=True)\n",
    "\n"
   ]
  },
  {
   "cell_type": "code",
   "execution_count": null,
   "metadata": {},
   "outputs": [],
   "source": []
  },
  {
   "cell_type": "code",
   "execution_count": 20,
   "metadata": {
    "collapsed": true
   },
   "outputs": [],
   "source": [
    "# 3 hidden layers \n",
    "n_nodes_hl1 = 500\n",
    "n_nodes_hl2 = 800\n",
    "n_nodes_hl3 = 20\n",
    "\n",
    "# classes\n",
    "n_classes = 10\n",
    "\n",
    "batch_size = 100\n",
    "\n",
    "x = tf.placeholder('float', [None,784]) #input data\n",
    "y = tf.placeholder('float')\n",
    "\n",
    "def neural_network_model(data):\n",
    "    ## Create a tensorarray of data using random numbers - these are the weights\n",
    "    # weights - X * Weight + Bias \n",
    "    hidden_1_layer = {'weights': tf.Variable(tf.random_normal([784, n_nodes_hl1])),\n",
    "                    'biases': tf.Variable(tf.random_normal(n_nodes_hl1))}\n",
    "    \n",
    "    hidden_2_layer = {'weights': tf.Variable(tf.random_normal([n_nodes_hl1, n_nodes_hl2])),\n",
    "                    'biases': tf.Variable(tf.random_normal(n_nodes_hl2))}\n",
    "    \n",
    "    hidden_3_layer = {'weights': tf.Variable(tf.random_normal([n_nodes_hl2, n_nodes_hl3])),\n",
    "                    'biases': tf.Variable(tf.random_normal(n_nodes_hl3))}   \n",
    "    \n",
    "    output_layer = {'weights': tf.Variable(tf.random_normal([n_nodes_hl3, n_classes])),\n",
    "                    'biases': tf.Variable(tf.random_normal([n_classes]))}\n",
    "    \n",
    "    l1 = tf.add(tf.matmul(data, hidden_1_layer['weights'])) + hidden_1_layer['biases']\n",
    "    # Rectified linear to l1 - ACTIVATION FUNCTION\n",
    "    l1 = tf.nn.relu(l1)\n",
    "    \n",
    "    l2 = tf.add(tf.matmul(l1, hidden_2_layer['weights'])) + hidden_2_layer['biases']\n",
    "    l2 = tf.nn.relu(l2)\n",
    "    \n",
    "    l3 = tf.add(tf.matmul(l2, hidden_3_layer['weights'])) + hidden_3_layer['biases']\n",
    "    l3 = tf.nn.relu(l3)\n",
    "    \n",
    "    output = tf.matmul(l3, output_layer['weights']) + output_layer['biases']\n",
    "    # Returning a 000000001 etc \n",
    "    return output"
   ]
  },
  {
   "cell_type": "code",
   "execution_count": 22,
   "metadata": {},
   "outputs": [],
   "source": [
    "def train_neural_network(x):\n",
    "    prediction = neural_network_model(x)\n",
    "    # This is our cost function - difference of prediction to the num label we have\n",
    "    cost = tf.reduce_mean( tf.nn.softmax_cross_entropy_with_logits(prediction,y))\n",
    "    \n",
    "    #stochastic gradient decent - leanring rate is at 0.001\n",
    "    optimizer = tf.train.AdamOptimizer().minimize(cost)\n",
    "    \n",
    "    # low= faster - forward data and backprop\n",
    "    hm_epochs = 10\n",
    "    \n",
    "    with tf.Session() as sess:\n",
    "        sess.run(tf.initialize_all_variables())\n",
    "        \n",
    "        for epoch in hm_epochs:\n",
    "            epoch_loss = 0\n",
    "            #calculate loss\n",
    "            for _ in range(int(mnist.train.num_examples/batch_size)):\n",
    "                # chuunks through the \n",
    "                x, y = mnist.train.next_batch(batch_size)\n",
    "                _, c = sess.run([optimizer, cost], feed_dict = {x: x, y: y})\n",
    "                epoch_loss += c\n",
    "            print('Epoch', epoch, 'compelted out of ', hm_epochs, 'loss: ', epoch_loss)\n",
    "            \n",
    "        correct = tf.equal(tf.argmax(prediction,1), tf.argmax(y,1))\n",
    "        \n",
    "        accuracy = tf.reduce_mean(tf.cast(correct, 'float'))\n",
    "        \n",
    "        print('Accuracy:', accuracy.eval({x:mnist.test.images, y:mnist.test.labels}))\n",
    "        \n",
    "        "
   ]
  },
  {
   "cell_type": "code",
   "execution_count": null,
   "metadata": {
    "collapsed": true
   },
   "outputs": [],
   "source": []
  }
 ],
 "metadata": {
  "kernelspec": {
   "display_name": "Python 3",
   "language": "python",
   "name": "python3"
  },
  "language_info": {
   "codemirror_mode": {
    "name": "ipython",
    "version": 3
   },
   "file_extension": ".py",
   "mimetype": "text/x-python",
   "name": "python",
   "nbconvert_exporter": "python",
   "pygments_lexer": "ipython3",
   "version": "3.6.1"
  }
 },
 "nbformat": 4,
 "nbformat_minor": 2
}
